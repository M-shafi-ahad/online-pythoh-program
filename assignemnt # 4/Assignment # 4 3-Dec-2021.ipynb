{
 "cells": [
  {
   "cell_type": "code",
   "execution_count": 1,
   "id": "dbdfa4d4",
   "metadata": {},
   "outputs": [
    {
     "name": "stdout",
     "output_type": "stream",
     "text": [
      "Enter first number: 15\n",
      "Enter second number: 20\n",
      "addition is:  35\n",
      "Subtraction is:  -5\n",
      "Multiplication is:  300\n",
      "print is:  0.75\n"
     ]
    }
   ],
   "source": [
    "\"\"\"1. Make a calculator using Python with addition , subtraction , \n",
    "multiplication ,division and power.\"\"\"\n",
    "\n",
    "num1 = int(input(\"Enter first number: \"))\n",
    "num2 = int(input(\"Enter second number: \"))\n",
    "\n",
    "add = (num1 + num2)\n",
    "sub = (num1 - num2)\n",
    "mult = (num1 * num2)\n",
    "div = (num1 / num2)\n",
    "\n",
    "print(\"addition is: \",add)\n",
    "print(\"Subtraction is: \",sub)\n",
    "print(\"Multiplication is: \",mult)\n",
    "print(\"print is: \",div)"
   ]
  },
  {
   "cell_type": "code",
   "execution_count": 5,
   "id": "408eb6bb",
   "metadata": {},
   "outputs": [],
   "source": [
    "#2. Write a program to check if there is any numeric value in list using for \n"
   ]
  },
  {
   "cell_type": "code",
   "execution_count": 1,
   "id": "5717d7dc",
   "metadata": {},
   "outputs": [
    {
     "name": "stdout",
     "output_type": "stream",
     "text": [
      "Enter number of students: 2\n",
      "Enter student name: shafi\n",
      "Enter math marks: 80\n",
      "Enter urdy marks: 55\n",
      "{1: [['shafi'], [80], [55]]}\n",
      "Enter student name: Ali\n",
      "Enter math marks: 85\n",
      "Enter urdy marks: 60\n",
      "{1: [['shafi'], [80], [55]], 2: [['Ali'], [85], [60]]}\n"
     ]
    }
   ],
   "source": [
    "# 3. Write a Python script to add a key to a dictionary.\n",
    "\n",
    "num = int(input(\"Enter number of students: \"))\n",
    "student={}\n",
    "for i in range(num):\n",
    "    roll=i+1\n",
    "    name=input(\"Enter student name: \")\n",
    "    Math=int(input(\"Enter math marks: \"))\n",
    "    Urdu=int(input(\"Enter urdy marks: \"))\n",
    "    student[roll]=[[name],[Math],[Urdu]]\n",
    "    print(student)"
   ]
  },
  {
   "cell_type": "code",
   "execution_count": 10,
   "id": "df234d95",
   "metadata": {},
   "outputs": [
    {
     "name": "stdout",
     "output_type": "stream",
     "text": [
      "320\n",
      "\n"
     ]
    }
   ],
   "source": [
    "# 4 Write a Python program to sum all the numeric items in a dictionary.\n",
    "\n",
    "dic1 = {'python':90, 'cpp':100, 'java':80, 'php':50}\n",
    "sum=0\n",
    "for i in dic1.values():\n",
    "    sum=sum+i\n",
    "print(sum)\n",
    "\n",
    "print()"
   ]
  },
  {
   "cell_type": "code",
   "execution_count": 9,
   "id": "caa2c1ac",
   "metadata": {},
   "outputs": [
    {
     "name": "stdout",
     "output_type": "stream",
     "text": [
      "[1, 5, 8, 15]\n"
     ]
    }
   ],
   "source": [
    "# 5 Write a program to identify duplicate values from list.\n",
    "\n",
    "a = [1,2,3,4,5,6,7,8,15]\n",
    "b = [1,5,8,9,14,15,16,17]\n",
    "c = []\n",
    "\n",
    "for i in a:\n",
    "    for j in b:\n",
    "        if (i==j):\n",
    "            c.append(i)\n",
    "print(c)\n"
   ]
  },
  {
   "cell_type": "code",
   "execution_count": 12,
   "id": "37841ad7",
   "metadata": {},
   "outputs": [
    {
     "name": "stdout",
     "output_type": "stream",
     "text": [
      "key is not present in the dictionary\n",
      "key is present in the dictionary\n"
     ]
    }
   ],
   "source": [
    "# 6 . Write a Python script to check if a given key already exists in a dictionary.\n",
    "\n",
    "d = {1: 10, 2: 20, 3: 30, 4: 40, 5: 50, 6: 60}\n",
    "def is_key_present(x):\n",
    "    if x in d:\n",
    "        print('key is present in the dictionary')\n",
    "    else:\n",
    "        print('key is not present in the dictionary')\n",
    "is_key_present(33)        \n",
    "is_key_present(2)"
   ]
  },
  {
   "cell_type": "code",
   "execution_count": null,
   "id": "4b92f86f",
   "metadata": {},
   "outputs": [],
   "source": []
  }
 ],
 "metadata": {
  "kernelspec": {
   "display_name": "Python 3",
   "language": "python",
   "name": "python3"
  },
  "language_info": {
   "codemirror_mode": {
    "name": "ipython",
    "version": 3
   },
   "file_extension": ".py",
   "mimetype": "text/x-python",
   "name": "python",
   "nbconvert_exporter": "python",
   "pygments_lexer": "ipython3",
   "version": "3.8.8"
  }
 },
 "nbformat": 4,
 "nbformat_minor": 5
}
